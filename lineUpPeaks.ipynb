{
 "cells": [
  {
   "cell_type": "code",
   "execution_count": 45,
   "metadata": {},
   "outputs": [],
   "source": [
    "from scipy.optimize import curve_fit\n",
    "from numpy import exp, arange\n"
   ]
  },
  {
   "cell_type": "markdown",
   "metadata": {},
   "source": [
    "# Lining up peaks before calculating S-Parameters\n",
    "The following project is an attempt to line up peak centers from different data curves obtained through dopplar broadening experiments. The idea is to correct for detector drift that may have occured between samples. \n"
   ]
  },
  {
   "cell_type": "markdown",
   "metadata": {},
   "source": [
    "The alignment is going to be done by running a gaussian curve fit to find the center of the peak, rather than using the maximum. This is because the curves are not perfectly smooth. In order to run the curve fit, we need to define the gaussian function. "
   ]
  },
  {
   "cell_type": "code",
   "execution_count": 3,
   "metadata": {},
   "outputs": [],
   "source": [
    "#gaussian function used for curve fit. \n",
    "def gaussian(x, mu, sigma, k, C):\n",
    "    # simple gaussian\n",
    "    return k*exp(-(x-mu)**2 / (2 * sigma**2)) + C\n"
   ]
  },
  {
   "cell_type": "markdown",
   "metadata": {},
   "source": [
    "\n",
    "\n",
    "The working code will be implemented into the PAPPy program. PAPPy can provide an array for bins, energy, and counts. The returned output should be just the array of the counts because that is the only thing that will be adjusted. This means that after adjustment, the peak will not be at the same energy as it was before. Assuming detector drift is the problem, counts will drift from energy, so the result should be restored to what it would have been if drift had not occured. To make things simple I am going to shift based on index of the array, meaning the bins and energy arrays will not need to be given. \n",
    "\n",
    "The energy and counts arrays are actually matrices where each row represents the data from a sample. This means the function will also need to take in the index for the reference sample.\n"
   ]
  },
  {
   "cell_type": "markdown",
   "metadata": {},
   "source": [
    "When the curve is shifted, we will lose some information on the side that it is shifted towards, and there will be a gap on the side that it is shifted away from. To make things easy, I am going to copy the index closest to the gap and spread it over. These will be at the tails and their only influence will be on the curve fit for background subtraction, which will be a minimal effect. "
   ]
  },
  {
   "cell_type": "markdown",
   "metadata": {},
   "source": [
    "The following is a demonstration of how the shifting can work. "
   ]
  },
  {
   "cell_type": "code",
   "execution_count": 32,
   "metadata": {},
   "outputs": [
    {
     "name": "stdout",
     "output_type": "stream",
     "text": [
      "[0, 1, 2, 3, 4, 5, 4, 3, 3, 3]\n"
     ]
    }
   ],
   "source": [
    "a0 = [0,1,2,3,4,5,4,3,2,1]\n",
    "a1 = [0,0,0,1,2,3,4,5,4,3]\n",
    "\n",
    "idx0 = 5\n",
    "idx1 = 7\n",
    "\n",
    "shiftAmount = idx1 - idx0\n",
    "\n",
    "shifted = a1\n",
    "if shiftAmount > 0:\n",
    "    shifted = a1[shiftAmount:]\n",
    "    for i in range(shiftAmount):\n",
    "        shifted.append(a1[-1])\n",
    "elif shiftAmount < 0:\n",
    "    shifted = []\n",
    "    for i in range(-1*shiftAmount):\n",
    "        shifted.append(a1[0])\n",
    "    shifted += a1[:(shiftAmount)]\n",
    "else:\n",
    "    #its the same\n",
    "    shifted = a1\n",
    "print(shifted)\n"
   ]
  },
  {
   "cell_type": "markdown",
   "metadata": {},
   "source": [
    "## Defining the main function\n",
    "The following function is the function that can be inserted into PAPPy.py in the pasphysics.py file. "
   ]
  },
  {
   "cell_type": "code",
   "execution_count": 46,
   "metadata": {},
   "outputs": [],
   "source": [
    "def alignPeaks(counts, ref_idx):\n",
    "    correctedCounts = [] #we will append an array to this array for each sample\n",
    "\n",
    "    refCounts = counts[ref_idx]\n",
    "\n",
    "    #find the center of the counts in the energy spectrum.     \n",
    "    # uses a gaussian fit to find the z-value and the bounds for a 0.5 s-parameter. \n",
    "    p0 = [len(refCounts), 15, max(refCounts), max(refCounts)/10]\n",
    "\n",
    "    #first fit gaussian to find std and mu. \n",
    "    params, _ = curve_fit(gaussian, arange(0,len(refCounts)), refCounts, p0=p0)\n",
    "    \n",
    "    refCenter = int(params[0]) #The index for where the center should be shifted to. \n",
    "\n",
    "    #now using that center, align the other samples\n",
    "    for sampleCounts in counts:\n",
    "        if counts.index(sampleCounts) != ref_idx: #don't align if its the reference. \n",
    "            #Step 1, find the center of this sample\n",
    "            p0 = [len(sampleCounts), 15, max(sampleCounts), max(sampleCounts)/10]\n",
    "            params, _ = curve_fit(gaussian, arange(0,len(sampleCounts)), sampleCounts, p0=p0)\n",
    "            sampleCenter = int(params[0]) #The index for the sample's center\n",
    "    \n",
    "            \n",
    "            shiftAmount = sampleCenter - refCenter\n",
    "\n",
    "            shifted = sampleCounts\n",
    "            if shiftAmount > 0:\n",
    "                shifted = sampleCounts[shiftAmount:]\n",
    "                for _ in range(shiftAmount):\n",
    "                    #fill in the gap created with the last value\n",
    "                    shifted.append(sampleCounts[-1])\n",
    "            elif shiftAmount < 0:\n",
    "                shifted = []\n",
    "                for _ in range(-1*shiftAmount):\n",
    "                    #fill in the gap created at the beginning with copies of the first value\n",
    "                    shifted.append(sampleCounts[0])\n",
    "                shifted += sampleCounts[:(shiftAmount)]\n",
    "            else:\n",
    "                #its the same, so don't shift it\n",
    "                shifted = sampleCounts\n",
    "\n",
    "            correctedCounts.append(shifted)\n",
    "        else:\n",
    "            #if it is the reference, just add it without adjusting it. \n",
    "            correctedCounts.append(sampleCounts)\n",
    "\n",
    "\n",
    "    return correctedCounts"
   ]
  },
  {
   "cell_type": "code",
   "execution_count": 49,
   "metadata": {},
   "outputs": [
    {
     "name": "stdout",
     "output_type": "stream",
     "text": [
      "[0, 0, 0, 1, 2, 3, 4, 5, 6, 7, 8, 9, 8, 7, 6, 5, 4, 3, 2, 1, 0, 0] [0, 0, 0, 1, 2, 3, 4, 5, 6, 7, 8, 9, 8, 7, 6, 5, 4, 3, 2, 1, 0, 0]\n",
      "[0, 0, 1, 2, 3, 4, 5, 6, 7, 8, 9, 7, 6, 5, 4, 3, 2, 1, 0, 0, 0, 0] [0, 0, 0, 1, 2, 3, 4, 5, 6, 7, 8, 9, 7, 6, 5, 4, 3, 2, 1, 0, 0, 0]\n"
     ]
    }
   ],
   "source": [
    "ref_idx = 0\n",
    "counts = [[0,0,0,1,2,3,4,5,6,7,8,9,8,7,6,5,4,3,2,1,0,0],\n",
    "          [0,0,1,2,3,4,5,6,7,8,9,7,6,5,4,3,2,1,0,0,0,0]]\n",
    "\n",
    "shiftedArrays = alignPeaks(counts, ref_idx)\n",
    "print(counts[0],shiftedArrays[0])\n",
    "print(counts[1],shiftedArrays[1])"
   ]
  },
  {
   "cell_type": "markdown",
   "metadata": {},
   "source": [
    "This test seems to show it working pretty well. The upper left array is the reference, and the upper right is also the reference sample (in the shifted array of arrays). The lower arrays are the original test on the left, and the shifted test on the right. It can be seen that the peak of 9 lines up. This is a crude test because the example distribution was not close to gaussian. The next thing to do would be to test it with a real sample. \n",
    "\n",
    "It is also interesting to change the ref_idx and see that it does still work, making the second sample the reference. "
   ]
  },
  {
   "cell_type": "markdown",
   "metadata": {},
   "source": [
    "## Review\n",
    "The code seems to work but it aligns the peaks in the cropped window. It would be better if the peak guess could be made off of a 511 keV from the energy array, and the shift was applied to the entire data rather than just the cropped window. This would matter if we wanted to compare two detectors or data taken with two different amplifications. "
   ]
  },
  {
   "cell_type": "markdown",
   "metadata": {},
   "source": []
  }
 ],
 "metadata": {
  "kernelspec": {
   "display_name": "Python 3",
   "language": "python",
   "name": "python3"
  },
  "language_info": {
   "codemirror_mode": {
    "name": "ipython",
    "version": 3
   },
   "file_extension": ".py",
   "mimetype": "text/x-python",
   "name": "python",
   "nbconvert_exporter": "python",
   "pygments_lexer": "ipython3",
   "version": "3.11.5"
  }
 },
 "nbformat": 4,
 "nbformat_minor": 2
}
